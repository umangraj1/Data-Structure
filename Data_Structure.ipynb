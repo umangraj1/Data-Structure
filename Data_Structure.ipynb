{
  "nbformat": 4,
  "nbformat_minor": 0,
  "metadata": {
    "colab": {
      "provenance": [],
      "collapsed_sections": [
        "i2Rz_ByC9ayg",
        "is6vhpNl9ceX",
        "mfY30YSZ9rfa"
      ]
    },
    "kernelspec": {
      "name": "python3",
      "display_name": "Python 3"
    },
    "language_info": {
      "name": "python"
    }
  },
  "cells": [
    {
      "cell_type": "markdown",
      "source": [
        "#Theory Questions\n",
        "\n",
        "\n",
        "\n",
        "\n",
        "\n",
        "\n"
      ],
      "metadata": {
        "id": "i2Rz_ByC9ayg"
      }
    },
    {
      "cell_type": "markdown",
      "source": [
        "Q.1 What are data structures, and why are they important.\n",
        "\n",
        "Ans:\n",
        "\n",
        "Data structures are ways of organizing and storing data so it can be efficiently accessed and modified.\n",
        "\n",
        "They are essential because they enable faster data manipulation and optimize algorithms, improving the overall performance of applications"
      ],
      "metadata": {
        "id": "is6vhpNl9ceX"
      }
    },
    {
      "cell_type": "markdown",
      "source": [
        "**Q.2 Explain the difference between mutable and immutable data types with examples**\n",
        "\n",
        "Ans:\n",
        "\n",
        "Differences Between Mutable and Immutable Data Types:\n",
        "\n",
        "**Mutable data types:**\n",
        "    \n",
        "  -   can be changed after creation &\n",
        "  \n",
        "  -   Objects can share the same memory reference if modified\n",
        "  \n",
        "  -   Modifying the object changes the original object\n",
        "        \n",
        "    -       Example: lists and dictionaries  while\n",
        "\n",
        "\n",
        "**Immutable data types:**\n",
        "    \n",
        "  -   Immutable data types cannot be modified\n",
        "\n",
        "  -    A new object is created in memory when modified\n",
        "       \n",
        "  -   Modifying the object creates a new object\n",
        "    \n",
        "    -       Example: strings and tuples\n",
        "    "
      ],
      "metadata": {
        "id": "mfY30YSZ9rfa"
      }
    },
    {
      "cell_type": "markdown",
      "source": [
        "**Q.3 What are the main differences between lists and tuples in Python**\n",
        "Ans:\n",
        "**List**:    \n",
        "  -   List are Mutable : Mutable, more flexible, and slower.\n",
        "  -   you can modify, add, or remove elements after the list is created\n",
        "  -   Syntax:\n",
        "  -   Lists are created using square brackets: []\n",
        "  -   Lists require more memory due to their ability to change.\n",
        "  -   Lists have many built-in methods for modifying the list\n",
        "    -       Example:  append(), remove(), extend(), pop()\n",
        "\n",
        "\n",
        "**Tuples** :\n",
        "  -   Immutable, faster, and more memory efficient.\n",
        "  -   Tuples are immutable\n",
        "  -   once a tuple is created, you cannot modify, add, or remove elements.\n",
        "  -   Syntax:\n",
        "  -   Tuples are created using parentheses: ()\n",
        "  -   Tuples are generally faster than lists for iteration and accessing element, because of their immutability.\n",
        "  -   Tuples have fewer methods since they are immutable\n",
        "    -       Example: count(), index()\n",
        "            "
      ],
      "metadata": {
        "id": "sHhH5Gfa968Q"
      }
    },
    {
      "cell_type": "markdown",
      "source": [
        "**Q.4 Describe how dictionaries store data**\n",
        "\n",
        "Ans:\n",
        "\n",
        " Dictionaries in Python store data in key-value pairs using a hash-based structure. Each key is unique and is mapped to a specific value. The dictionary uses a hash function to compute a hash value for each key, determining where the key-value pair is stored in memory. This allows for fast lookups, insertions, and deletion"
      ],
      "metadata": {
        "id": "eHIZfjvn97DT"
      }
    },
    {
      "cell_type": "markdown",
      "source": [
        "**Q.5 Why might you use a set instead of a list in Python**\n",
        "\n",
        "Ans:\n",
        "\n",
        "Sets are useful when you need to store unique elements and perform fast membership checks. Unlike lists, sets automatically eliminate duplicates, ensuring that only one instance of each element is stored. This makes sets ideal for operations that involve finding unique items or performing mathematical set operations like union, intersection, and difference."
      ],
      "metadata": {
        "id": "sSW0iATR97Fm"
      }
    },
    {
      "cell_type": "markdown",
      "source": [
        "**Q.6 What is a string in Python, and how is it different from a list**\n",
        "\n",
        "Ans:\n",
        "\n",
        " A string is an immutable sequence of characters, whereas a list is a mutable sequence of any data type.\n",
        " While both support indexing and slicing, strings cannot be changed after creation, but lists can be modified."
      ],
      "metadata": {
        "id": "pereKyX897Ho"
      }
    },
    {
      "cell_type": "markdown",
      "source": [
        "**Q.7 How do tuples ensure data integrity in Python**\n",
        "\n",
        "Ans:\n",
        "\n",
        "\n",
        " Tuples ensure data integrity because they are immutable. Once a tuple is created, its elements cannot be modified, which helps preserve the data without accidental changes."
      ],
      "metadata": {
        "id": "IpdXf6W897Md"
      }
    },
    {
      "cell_type": "markdown",
      "source": [
        "**Q.8 What is a hash table, and how does it relate to dictionaries in Python**\n",
        "\n",
        "Ans:\n",
        "\n",
        " A hash table is a data structure that stores data in an array format, using a hash function to compute an index where the data is stored. In Python, dictionaries use a hash table internally to map keys to values, allowing for fast data retrieval."
      ],
      "metadata": {
        "id": "E1ttdfi797PV"
      }
    },
    {
      "cell_type": "markdown",
      "source": [
        "**Q.9 Can lists contain different data types in Python**\n",
        "\n",
        "Ans:\n",
        "\n",
        "Yes, lists in Python can contain elements of different data types. For example, a list can store integers, strings, floats, or even other lists."
      ],
      "metadata": {
        "id": "UYO1aJZmB8T2"
      }
    },
    {
      "cell_type": "code",
      "source": [
        "#Example\n",
        "grocery_list = [\"Milk\", \"cherry\", 1, 2.2, True, (3+5j)]"
      ],
      "metadata": {
        "id": "6Oa1dQxTCDLh"
      },
      "execution_count": null,
      "outputs": []
    },
    {
      "cell_type": "markdown",
      "source": [
        "**Q.10 Explain why strings are immutable in Python**\n",
        "\n",
        "Ans:\n",
        "\n",
        "Strings are immutable in Python because they are designed to be memory efficient and safe from accidental changes. By making strings immutable, Python ensures that any string value cannot be altered, which avoids unexpected behavior when multiple references point to the same string object."
      ],
      "metadata": {
        "id": "x4miQAwQB8cK"
      }
    },
    {
      "cell_type": "markdown",
      "source": [
        "**11. What advantages do dictionaries offer over lists for certain tasks?**\n",
        "\n",
        "Ans:\n",
        "\n",
        "Dictionaries allow fast key-based access and better organization for large datasets compared to index-based lists."
      ],
      "metadata": {
        "id": "u-AnbBlSB8nH"
      }
    },
    {
      "cell_type": "markdown",
      "source": [
        "**Q.12 Describe a scenario where using a tuple would be preferable over a list**\n",
        "\n",
        "Ans:\n",
        "\n",
        "Tuples are preferable when you need an immutable collection of elements, like storing coordinates (x, y) or when the data should remain constant throughout the program. Since tuples are faster and more memory-efficient than lists, they are a better choice for fixed collections."
      ],
      "metadata": {
        "id": "Lihois4WB8wY"
      }
    },
    {
      "cell_type": "markdown",
      "source": [
        "**Q.13 How do sets handle duplicate values in Python**\n",
        "\n",
        "Ans:\n",
        "\n",
        "Sets automatically eliminate duplicate values. If you try to add a duplicate element, it will simply be ignored, ensuring that only unique elements are stored in a set.\n"
      ],
      "metadata": {
        "id": "_tPfsTrOB851"
      }
    },
    {
      "cell_type": "code",
      "source": [
        "my_set = {1, 2, 2, 3}\n",
        "print(my_set)  # Output: {1, 2, 3}"
      ],
      "metadata": {
        "id": "PeXCP7WsEDv7",
        "colab": {
          "base_uri": "https://localhost:8080/"
        },
        "outputId": "fccbd7ae-d8d0-46bf-cd43-fec0fd732d5a"
      },
      "execution_count": null,
      "outputs": [
        {
          "output_type": "stream",
          "name": "stdout",
          "text": [
            "{1, 2, 3}\n"
          ]
        }
      ]
    },
    {
      "cell_type": "markdown",
      "source": [
        "**Q.14 How does the “in” keyword work differently for lists and dictionaries**\n",
        "\n",
        "Ans:\n",
        "\n",
        "For lists, the in keyword checks if an element exists in the list by iterating through the list. It checks for membership one by one.\n",
        "For dictionaries, the in keyword checks if a key exists in the dictionary, which is much faster due to the hash table structure."
      ],
      "metadata": {
        "id": "5NbsC19qB9BH"
      }
    },
    {
      "cell_type": "markdown",
      "source": [
        "**Q.15 Can you modify the elements of a tuple? Explain why or why not**\n",
        "\n",
        "Ans:\n",
        "\n",
        "No, you cannot modify the elements of a tuple because tuples are immutable. Once a tuple is created, its data cannot be changed, which ensures data integrity."
      ],
      "metadata": {
        "id": "_qYAC9pBB9JD"
      }
    },
    {
      "cell_type": "markdown",
      "source": [
        "**Q.16 What is a nested dictionary, and give an example of its use case**\n",
        "\n",
        "Ans:\n",
        "\n",
        "A nested dictionary is a dictionary that contains other dictionaries as values. This is useful when you need to represent complex hierarchical data, like storing information about multiple employees in a company.\n"
      ],
      "metadata": {
        "id": "qU9QmYM_B9Qh"
      }
    },
    {
      "cell_type": "code",
      "source": [
        "restaurant_menu = {\n",
        "    'Dish1': {'name': 'Pasta masala', 'price': 160.99},\n",
        "    'Dish2': {'name': 'Chicken 65', 'price': 144.50},\n",
        "    'Dish3': {'name': 'Margherita Pizza', 'price': 156.00}\n",
        "}"
      ],
      "metadata": {
        "id": "cijsVZFpE5gr"
      },
      "execution_count": null,
      "outputs": []
    },
    {
      "cell_type": "markdown",
      "source": [
        "**Q.17 Describe the time complexity of accessing elements in a dictionary**\n",
        "\n",
        "Ans:\n",
        "\n",
        " The time complexity of accessing elements in a dictionary is O(1) on average. This is because dictionaries use a hash table, which allows for fast lookups based on the key."
      ],
      "metadata": {
        "id": "-sQZPADAB9Ye"
      }
    },
    {
      "cell_type": "markdown",
      "source": [
        "**Q.18 In what situations are lists preferred over dictionaries**\n",
        "\n",
        "Ans:\n",
        "\n",
        "Lists are preferred over dictionaries when:\n",
        "\n",
        "  You need to maintain the order of elements.\n",
        "\n",
        "  You need to store a sequence of elements without associating them with unique keys.\n",
        "\n",
        "  When you don’t need fast lookups and are dealing with a small collection of data."
      ],
      "metadata": {
        "id": "oEs_sFhOB9hA"
      }
    },
    {
      "cell_type": "markdown",
      "source": [
        "**Q.19 Why are dictionaries considered unordered, and how does that affect data retrieval.**\n",
        "\n",
        "Ans:\n",
        "\n",
        " Dictionaries in Python are considered unordered because they do not maintain a specific sequence for their keys and values. However, this does not affect data retrieval as long as retrieval is done by key, as dictionaries provide direct access to values through hashing"
      ],
      "metadata": {
        "id": "NvfNswUFB9qm"
      }
    },
    {
      "cell_type": "markdown",
      "source": [
        "**Q.20 Explain the difference between a list and a dictionary in terms of data retrieval.**\n",
        "\n",
        "Ans:\n",
        "\n",
        "In a list, data is retrieved by index (position in the list).\n",
        "\n",
        "In a dictionary, data is retrieved by key (unique identifier), making\n",
        "it faster for lookups as keys are hashed."
      ],
      "metadata": {
        "id": "Qo1y02CgB91U"
      }
    },
    {
      "cell_type": "markdown",
      "source": [
        "#Practical Questions\n"
      ],
      "metadata": {
        "id": "nDHVY51h7_G8"
      }
    },
    {
      "cell_type": "markdown",
      "source": [
        "**Q.1 Write a code to create a string with your name and print it**\n"
      ],
      "metadata": {
        "id": "aoljHb2Y8aO5"
      }
    },
    {
      "cell_type": "code",
      "source": [
        "#Q1. Write a code to create a string with your name and print it.\n",
        "name = \"Umang\"\n",
        "print(name)\n"
      ],
      "metadata": {
        "id": "Zke8GOMR8ssA",
        "colab": {
          "base_uri": "https://localhost:8080/"
        },
        "outputId": "739e5858-462a-4f83-f1bb-f47be19afd03"
      },
      "execution_count": null,
      "outputs": [
        {
          "output_type": "stream",
          "name": "stdout",
          "text": [
            "Umang\n"
          ]
        }
      ]
    },
    {
      "cell_type": "markdown",
      "source": [
        "**Q.2 Write a code to find the length of the string \"Hello World\"**\n",
        "\n"
      ],
      "metadata": {
        "id": "x2DlBmG6-IwJ"
      }
    },
    {
      "cell_type": "code",
      "source": [
        "#Q.2 Write a code to find the length of the string \"Hello World\"\n",
        "string = \"Hello World\"\n",
        "length = len(string)\n",
        "print(length)"
      ],
      "metadata": {
        "id": "hwWUJRjf8xgZ",
        "colab": {
          "base_uri": "https://localhost:8080/"
        },
        "outputId": "06d0f8e6-8b01-4d57-c63b-7d64b705edbd"
      },
      "execution_count": null,
      "outputs": [
        {
          "output_type": "stream",
          "name": "stdout",
          "text": [
            "11\n"
          ]
        }
      ]
    },
    {
      "cell_type": "markdown",
      "source": [
        "**Q.3 Write a code to slice the first 3 characters from the string \"Python Programming\"**\n",
        "\n"
      ],
      "metadata": {
        "id": "E4OQZSo5-Ltu"
      }
    },
    {
      "cell_type": "code",
      "source": [
        "#Q.3 Write a code to slice the first 3 characters from the string \"Python Programming\"\n",
        "string = \"Python Programming\"\n",
        "sliced_string = string[:3]\n",
        "print(sliced_string)\n"
      ],
      "metadata": {
        "id": "DlSBm-5x8xpX",
        "colab": {
          "base_uri": "https://localhost:8080/"
        },
        "outputId": "041f6254-da73-407f-f9ab-0cdd77d3dd85"
      },
      "execution_count": null,
      "outputs": [
        {
          "output_type": "stream",
          "name": "stdout",
          "text": [
            "Pyt\n"
          ]
        }
      ]
    },
    {
      "cell_type": "markdown",
      "source": [
        "**Q.4 Write a code to convert the string \"hello\" to uppercase**\n"
      ],
      "metadata": {
        "id": "sfL56tVs-Np9"
      }
    },
    {
      "cell_type": "code",
      "source": [
        "#Q.4 Write a code to convert the string \"hello\" to uppercase\n",
        "string = \"hello\"\n",
        "uppercase_string = string.upper()\n",
        "print(uppercase_string)\n"
      ],
      "metadata": {
        "id": "8L1eQumG8xyo",
        "colab": {
          "base_uri": "https://localhost:8080/"
        },
        "outputId": "0e965db6-d253-490d-a240-97c629cb5e70"
      },
      "execution_count": null,
      "outputs": [
        {
          "output_type": "stream",
          "name": "stdout",
          "text": [
            "HELLO\n"
          ]
        }
      ]
    },
    {
      "cell_type": "markdown",
      "source": [
        "**Q.5 Write a code to replace the word \"apple\" with \"orange\" in the string \"I like apple\"**\n",
        "\n"
      ],
      "metadata": {
        "id": "zXlvE2Z6-QKL"
      }
    },
    {
      "cell_type": "code",
      "source": [
        "#Q.5 Write a code to replace the word \"apple\" with \"orange\" in the string \"I like apple\"\n",
        "string = \"I like apple\"\n",
        "new_string = string.replace(\"apple\", \"orange\")\n",
        "print(new_string)\n"
      ],
      "metadata": {
        "id": "m6OcyC-q8x72",
        "colab": {
          "base_uri": "https://localhost:8080/"
        },
        "outputId": "f6dca7d3-cff6-4a02-ca29-b4428daf323d"
      },
      "execution_count": null,
      "outputs": [
        {
          "output_type": "stream",
          "name": "stdout",
          "text": [
            "I like orange\n"
          ]
        }
      ]
    },
    {
      "cell_type": "markdown",
      "source": [
        "**Q.6 Write a code to create a list with numbers 1 to 5 and print it**"
      ],
      "metadata": {
        "id": "Ar1wQpO7-S7e"
      }
    },
    {
      "cell_type": "code",
      "source": [
        "#Q.6 Write a code to create a list with numbers 1 to 5 and print it\n",
        "numbers = [1, 2, 3, 4, 5]\n",
        "print(numbers)"
      ],
      "metadata": {
        "id": "_0vHklzk8yza",
        "colab": {
          "base_uri": "https://localhost:8080/"
        },
        "outputId": "cf9dbb46-6197-4e01-8905-6cf19f9999d2"
      },
      "execution_count": null,
      "outputs": [
        {
          "output_type": "stream",
          "name": "stdout",
          "text": [
            "[1, 2, 3, 4, 5]\n"
          ]
        }
      ]
    },
    {
      "cell_type": "markdown",
      "source": [
        "**Q.7 Write a code to append the number 10 to the list [1, 2, 3, 4]**"
      ],
      "metadata": {
        "id": "Mnfdm9CY-Uej"
      }
    },
    {
      "cell_type": "code",
      "source": [
        "#Q.7 Write a code to append the number 10 to the list [1, 2, 3, 4]\n",
        "numbers = [1, 2, 3, 4]\n",
        "numbers.append(10)\n",
        "print(numbers)"
      ],
      "metadata": {
        "id": "itHD5mpv_pHa",
        "colab": {
          "base_uri": "https://localhost:8080/"
        },
        "outputId": "53de0479-7394-4a50-e3a2-84c58148199d"
      },
      "execution_count": null,
      "outputs": [
        {
          "output_type": "stream",
          "name": "stdout",
          "text": [
            "[1, 2, 3, 4, 10]\n"
          ]
        }
      ]
    },
    {
      "cell_type": "markdown",
      "source": [
        "**Q.8 Write a code to remove the number 3 from the list [1, 2, 3, 4, 5]**"
      ],
      "metadata": {
        "id": "hfxt-tH_-WTb"
      }
    },
    {
      "cell_type": "code",
      "source": [
        "#Q.8 Write a code to remove the number 3 from the list [1, 2, 3, 4, 5]\n",
        "numbers = [1, 2, 3, 4, 5]\n",
        "numbers.remove(3)\n",
        "print(numbers)"
      ],
      "metadata": {
        "id": "7QsNG24a_sCH",
        "colab": {
          "base_uri": "https://localhost:8080/"
        },
        "outputId": "c3e98a85-845b-44fe-f891-10bcf0346d79"
      },
      "execution_count": null,
      "outputs": [
        {
          "output_type": "stream",
          "name": "stdout",
          "text": [
            "[1, 2, 4, 5]\n"
          ]
        }
      ]
    },
    {
      "cell_type": "markdown",
      "source": [
        "**Q.9 Write a code to access the second element in the list ['a', 'b', 'c', 'd']**\n",
        "\n"
      ],
      "metadata": {
        "id": "EImtMw82-XzQ"
      }
    },
    {
      "cell_type": "code",
      "source": [
        "#Q.9 Write a code to access the second element in the list ['a', 'b', 'c', 'd']\n",
        "letters = ['a', 'b', 'c', 'd']\n",
        "second_element = letters[1]\n",
        "print(second_element)"
      ],
      "metadata": {
        "id": "tAxsJLW6_uzp",
        "colab": {
          "base_uri": "https://localhost:8080/"
        },
        "outputId": "0108aa2d-4ab2-4acb-bf2e-25e69f4eb093"
      },
      "execution_count": null,
      "outputs": [
        {
          "output_type": "stream",
          "name": "stdout",
          "text": [
            "b\n"
          ]
        }
      ]
    },
    {
      "cell_type": "markdown",
      "source": [
        "**Q.10 Write a code to reverse the list [10, 20, 30, 40, 50].**\n",
        "\n"
      ],
      "metadata": {
        "id": "25cDSZ0j-Zqa"
      }
    },
    {
      "cell_type": "code",
      "source": [
        "#Q.10 Write a code to reverse the list [10, 20, 30, 40, 50].\n",
        "numbers = [10, 20, 30, 40, 50]\n",
        "numbers.reverse()\n",
        "print(numbers)\n"
      ],
      "metadata": {
        "id": "RGhJMJJ0_xLr",
        "colab": {
          "base_uri": "https://localhost:8080/"
        },
        "outputId": "af7257da-6941-4ded-d507-a9182e7430ac"
      },
      "execution_count": null,
      "outputs": [
        {
          "output_type": "stream",
          "name": "stdout",
          "text": [
            "[50, 40, 30, 20, 10]\n"
          ]
        }
      ]
    },
    {
      "cell_type": "markdown",
      "source": [
        "**Q.11 Write a code to create a tuple with the elements 100, 200, 300 and print it.**\n",
        "\n"
      ],
      "metadata": {
        "id": "ipPbVUBh-cWW"
      }
    },
    {
      "cell_type": "code",
      "source": [
        "#Q.11 Write a code to create a tuple with the elements 100, 200, 300 and print it.\n",
        "\n",
        "my_tuple = (100, 200, 300)\n",
        "print(my_tuple)"
      ],
      "metadata": {
        "colab": {
          "base_uri": "https://localhost:8080/"
        },
        "id": "2Z0q9vES8zXp",
        "outputId": "aef7e8f3-f9dd-41de-d7e6-3e9b4ae6593d"
      },
      "execution_count": null,
      "outputs": [
        {
          "output_type": "stream",
          "name": "stdout",
          "text": [
            "(100, 200, 300)\n"
          ]
        }
      ]
    },
    {
      "cell_type": "markdown",
      "source": [
        "**Q.12 Write a code to access the second-to-last element of the tuple ('red', 'green', 'blue', 'yellow').**\n",
        "\n"
      ],
      "metadata": {
        "id": "-7EMoTbE-euW"
      }
    },
    {
      "cell_type": "code",
      "source": [
        "#Q.12 Write a code to access the second-to-last element of the tuple ('red', 'green', 'blue', 'yellow').\n",
        "\n",
        "my_tuple = ('red', 'green', 'blue', 'yellow')\n",
        "print(my_tuple[-2])  # Output: 'blue'"
      ],
      "metadata": {
        "id": "F5PjaO-s8zfA",
        "colab": {
          "base_uri": "https://localhost:8080/"
        },
        "outputId": "01f967cb-04f1-44bf-d7be-713b22dc1f71"
      },
      "execution_count": null,
      "outputs": [
        {
          "output_type": "stream",
          "name": "stdout",
          "text": [
            "blue\n"
          ]
        }
      ]
    },
    {
      "cell_type": "markdown",
      "source": [
        "**Q.13 Write a code to find the minimum number in the tuple (10, 20, 5, 15).**\n",
        "\n"
      ],
      "metadata": {
        "id": "5bUXD7mx-gb8"
      }
    },
    {
      "cell_type": "code",
      "source": [
        "#Q.13 Write a code to find the minimum number in the tuple (10, 20, 5, 15).\n",
        "my_tuple = (10, 20, 5, 15)\n",
        "print(min(my_tuple))  # Output: 5\n"
      ],
      "metadata": {
        "id": "wZ-x-Rxr_1ER",
        "colab": {
          "base_uri": "https://localhost:8080/"
        },
        "outputId": "d35af281-b56d-456d-c95e-9f98cec6a570"
      },
      "execution_count": null,
      "outputs": [
        {
          "output_type": "stream",
          "name": "stdout",
          "text": [
            "5\n"
          ]
        }
      ]
    },
    {
      "cell_type": "markdown",
      "source": [
        "**Q.14 Write a code to find the index of the element \"cat\" in the tuple ('dog', 'cat', 'rabbit').**"
      ],
      "metadata": {
        "id": "4ioPSCYl-ih7"
      }
    },
    {
      "cell_type": "code",
      "source": [
        "#Q.14 Write a code to find the index of the element \"cat\" in the tuple ('dog', 'cat', 'rabbit')\n",
        "my_tuple = ('dog', 'cat', 'rabbit')\n",
        "print(my_tuple.index('cat'))  # Output: 1"
      ],
      "metadata": {
        "id": "vbTwncQf_3rs",
        "colab": {
          "base_uri": "https://localhost:8080/"
        },
        "outputId": "c5107127-0cea-4865-8391-38cf9f0ac3cf"
      },
      "execution_count": null,
      "outputs": [
        {
          "output_type": "stream",
          "name": "stdout",
          "text": [
            "1\n"
          ]
        }
      ]
    },
    {
      "cell_type": "markdown",
      "source": [
        "**Q.15 Write a code to create a tuple containing three different fruits and check if \"kiwi\" is in it.**"
      ],
      "metadata": {
        "id": "Jf-2d0-o-kfL"
      }
    },
    {
      "cell_type": "code",
      "source": [
        "#Q.15 Write a code to create a tuple containing three different fruits and check if \"kiwi\" is in it.\n",
        "\n",
        "my_tuple = ('apple', 'banana', 'cherry')\n",
        "print('kiwi' in my_tuple)  # Output: False"
      ],
      "metadata": {
        "id": "R3bHhuoF8z31",
        "colab": {
          "base_uri": "https://localhost:8080/"
        },
        "outputId": "2c6378d8-e0c6-4371-f8ac-7d568151e42a"
      },
      "execution_count": null,
      "outputs": [
        {
          "output_type": "stream",
          "name": "stdout",
          "text": [
            "False\n"
          ]
        }
      ]
    },
    {
      "cell_type": "markdown",
      "source": [
        "**Q.16 Write a code to create a set with the elements 'a', 'b', 'c' and print it.**\n",
        "\n"
      ],
      "metadata": {
        "id": "tKfD_yQr-mOg"
      }
    },
    {
      "cell_type": "code",
      "source": [
        "#Q.16 Write a code to create a set with the elements 'a', 'b', 'c' and print it.\n",
        "my_set = {'a', 'b', 'c'}\n",
        "print(my_set)\n"
      ],
      "metadata": {
        "id": "GyrYTXDG80AD",
        "colab": {
          "base_uri": "https://localhost:8080/"
        },
        "outputId": "6825ecee-e23a-4cb4-f80f-2f070e0894bf"
      },
      "execution_count": null,
      "outputs": [
        {
          "output_type": "stream",
          "name": "stdout",
          "text": [
            "{'b', 'a', 'c'}\n"
          ]
        }
      ]
    },
    {
      "cell_type": "markdown",
      "source": [
        "**Q.17 Write a code to clear all elements from the set {1, 2, 3, 4, 5}.**\n"
      ],
      "metadata": {
        "id": "Q805s3vZ-n0A"
      }
    },
    {
      "cell_type": "code",
      "source": [
        "#Q.17 Write a code to clear all elements from the set {1, 2, 3, 4, 5}.\n",
        "\n",
        "my_set = {1, 2, 3, 4, 5}\n",
        "my_set.clear()\n",
        "print(my_set)"
      ],
      "metadata": {
        "id": "_-D6E3E980G-",
        "colab": {
          "base_uri": "https://localhost:8080/"
        },
        "outputId": "6163b000-7baa-4d6f-cf68-82e2da19b28c"
      },
      "execution_count": null,
      "outputs": [
        {
          "output_type": "stream",
          "name": "stdout",
          "text": [
            "set()\n"
          ]
        }
      ]
    },
    {
      "cell_type": "markdown",
      "source": [
        "**Q.18 Write a code to remove the element 4 from the set {1, 2, 3, 4}.**\n",
        "\n"
      ],
      "metadata": {
        "id": "07Onwnz_-pbT"
      }
    },
    {
      "cell_type": "code",
      "source": [
        "#Q.18 Write a code to remove the element 4 from the set {1, 2, 3, 4}.\n",
        "\n",
        "my_set = {1, 2, 3, 4}\n",
        "my_set.remove(4)\n",
        "print(my_set)"
      ],
      "metadata": {
        "id": "lr6ftGbf80Pg",
        "colab": {
          "base_uri": "https://localhost:8080/"
        },
        "outputId": "177c872a-051b-49ec-a949-f3f16bab7782"
      },
      "execution_count": null,
      "outputs": [
        {
          "output_type": "stream",
          "name": "stdout",
          "text": [
            "{1, 2, 3}\n"
          ]
        }
      ]
    },
    {
      "cell_type": "markdown",
      "source": [
        "**Q.19 Write a code to find the union of two sets {1, 2, 3} and {3, 4, 5}.**\n",
        "\n"
      ],
      "metadata": {
        "id": "zAQ4OFVH-rSi"
      }
    },
    {
      "cell_type": "code",
      "source": [
        "#Q.19 Write a code to find the union of two sets {1, 2, 3} and {3, 4, 5}.\n",
        "\n",
        "set1 = {1, 2, 3}\n",
        "set2 = {3, 4, 5}\n",
        "union_set = set1 | set2\n",
        "print(union_set)"
      ],
      "metadata": {
        "id": "uTvmTL7a80Yd",
        "colab": {
          "base_uri": "https://localhost:8080/"
        },
        "outputId": "250a446c-6d54-4f60-eece-dcc9516f92b6"
      },
      "execution_count": null,
      "outputs": [
        {
          "output_type": "stream",
          "name": "stdout",
          "text": [
            "{1, 2, 3, 4, 5}\n"
          ]
        }
      ]
    },
    {
      "cell_type": "markdown",
      "source": [
        "**Q.20 Write a code to find the intersection of two sets {1, 2, 3} and {2, 3, 4}.**\n",
        "\n"
      ],
      "metadata": {
        "id": "PjrmDQgN-seA"
      }
    },
    {
      "cell_type": "code",
      "source": [
        "#Q.20 Write a code to find the intersection of two sets {1, 2, 3} and {2, 3, 4}.\n",
        "\n",
        "set1 = {1, 2, 3}\n",
        "set2 = {2, 3, 4}\n",
        "intersection_set = set1 & set2\n",
        "print(intersection_set)"
      ],
      "metadata": {
        "id": "3MtkxdEq81Mk",
        "colab": {
          "base_uri": "https://localhost:8080/"
        },
        "outputId": "357e614d-e2e9-410a-ac5e-cb72c365332c"
      },
      "execution_count": null,
      "outputs": [
        {
          "output_type": "stream",
          "name": "stdout",
          "text": [
            "{2, 3}\n"
          ]
        }
      ]
    },
    {
      "cell_type": "markdown",
      "source": [
        "**Q.21 Write a code to create a dictionary with the keys \"name\", \"age\", and \"city\", and print it.**\n",
        "\n"
      ],
      "metadata": {
        "id": "zOp6VLTg-ttM"
      }
    },
    {
      "cell_type": "code",
      "source": [
        "#Q.21 Write a code to create a dictionary with the keys \"name\", \"age\", and \"city\", and print it.\n",
        "\n",
        "my_dict = {\"name\": \"Bob\", \"age\": 39, \"city\": \"New York\"}\n",
        "print(my_dict)"
      ],
      "metadata": {
        "id": "pUjOjAmx81Tj",
        "colab": {
          "base_uri": "https://localhost:8080/"
        },
        "outputId": "38b8606a-2118-4dd2-80e1-7271b1d79c00"
      },
      "execution_count": null,
      "outputs": [
        {
          "output_type": "stream",
          "name": "stdout",
          "text": [
            "{'name': 'Bob', 'age': 39, 'city': 'New York'}\n"
          ]
        }
      ]
    },
    {
      "cell_type": "markdown",
      "source": [
        "**Q.22 Write a code to add a new key-value pair \"country\": \"USA\" to the dictionary {'name': 'John', 'age': 25}.**\n",
        "\n"
      ],
      "metadata": {
        "id": "aBPB-BpS-u-H"
      }
    },
    {
      "cell_type": "code",
      "source": [
        "#Q.22 Write a code to add a new key-value pair \"country\": \"USA\" to the dictionary {'name': 'John', 'age': 25}.\n",
        "\n",
        "my_dict = {'name': 'Alex', 'age': 30}\n",
        "my_dict[\"country\"] = \"UK\"\n",
        "print(my_dict)"
      ],
      "metadata": {
        "id": "hqvCmejb81bn",
        "colab": {
          "base_uri": "https://localhost:8080/"
        },
        "outputId": "696cb79b-ea21-481f-debb-2eb2d07b1d1e"
      },
      "execution_count": null,
      "outputs": [
        {
          "output_type": "stream",
          "name": "stdout",
          "text": [
            "{'name': 'Alex', 'age': 30, 'country': 'UK'}\n"
          ]
        }
      ]
    },
    {
      "cell_type": "markdown",
      "source": [
        "**Q.23 Write a code to access the value associated with the key \"name\" in the dictionary {'name': 'Alice', 'age': 30}.**\n",
        "\n"
      ],
      "metadata": {
        "id": "i33I_ZIy-woE"
      }
    },
    {
      "cell_type": "code",
      "source": [
        "#Q.23 Write a code to access the value associated with the key \"name\" in the dictionary {'name': 'Alice', 'age': 30}.\n",
        "\n",
        "my_dict = {'name': 'Alice', 'age': 30}\n",
        "print(my_dict[\"name\"])"
      ],
      "metadata": {
        "id": "09kB-Xnt81kR",
        "colab": {
          "base_uri": "https://localhost:8080/"
        },
        "outputId": "3ae528c0-50e2-412a-cce0-d297fc14c521"
      },
      "execution_count": null,
      "outputs": [
        {
          "output_type": "stream",
          "name": "stdout",
          "text": [
            "Alice\n"
          ]
        }
      ]
    },
    {
      "cell_type": "markdown",
      "source": [
        "**Q.24 Write a code to remove the key \"age\" from the dictionary {'name': 'Bob', 'age': 22, 'city': 'New York'}.**"
      ],
      "metadata": {
        "id": "7Jma3X4v-yqw"
      }
    },
    {
      "cell_type": "code",
      "source": [
        "#Q.24 Write a code to remove the key \"age\" from the dictionary {'name': 'Bob', 'age': 22, 'city': 'New York'}.\n",
        "my_dict = {'name': 'Bob', 'age': 22, 'city': 'New York'}\n",
        "del my_dict[\"age\"]\n",
        "print(my_dict)"
      ],
      "metadata": {
        "id": "XnjGF0IS9_hs",
        "colab": {
          "base_uri": "https://localhost:8080/"
        },
        "outputId": "f6583966-92a7-4ee0-fc81-75c20d0bac5c"
      },
      "execution_count": null,
      "outputs": [
        {
          "output_type": "stream",
          "name": "stdout",
          "text": [
            "{'name': 'Bob', 'city': 'New York'}\n"
          ]
        }
      ]
    },
    {
      "cell_type": "markdown",
      "source": [
        "**Q.25 Write a code to check if the key \"city\" exists in the dictionary {'name': 'Alice', 'city': 'Paris'}.**\n",
        "\n"
      ],
      "metadata": {
        "id": "65OMiKU1--SS"
      }
    },
    {
      "cell_type": "code",
      "source": [
        "#Q.25 Write a code to check if the key \"city\" exists in the dictionary {'name': 'Alice', 'city': 'Paris'}.\n",
        "\n",
        "my_dict = {'name': 'Alice', 'city': 'Paris'}\n",
        "print(\"city\" in my_dict)"
      ],
      "metadata": {
        "id": "ZYi1F0Qu81sB",
        "colab": {
          "base_uri": "https://localhost:8080/"
        },
        "outputId": "433933ff-cea1-4559-e64a-32c633a71337"
      },
      "execution_count": null,
      "outputs": [
        {
          "output_type": "stream",
          "name": "stdout",
          "text": [
            "True\n"
          ]
        }
      ]
    },
    {
      "cell_type": "markdown",
      "source": [
        "**Q.26 Write a code to create a list, a tuple, and a dictionary, and print them all.**\n",
        "\n"
      ],
      "metadata": {
        "id": "MdpK6S52-_1b"
      }
    },
    {
      "cell_type": "code",
      "source": [
        "#Q.26 Write a code to create a list, a tuple, and a dictionary, and print them all.\n",
        "my_list = [1, 2, 3]\n",
        "my_tuple = (4, 5, 6)\n",
        "my_dict = {'a': 1, 'b': 2}\n",
        "print(my_list, my_tuple, my_dict)"
      ],
      "metadata": {
        "id": "qojawTtw810h",
        "colab": {
          "base_uri": "https://localhost:8080/"
        },
        "outputId": "1f0ab188-f49e-4618-e085-23518efabef7"
      },
      "execution_count": null,
      "outputs": [
        {
          "output_type": "stream",
          "name": "stdout",
          "text": [
            "[1, 2, 3] (4, 5, 6) {'a': 1, 'b': 2}\n"
          ]
        }
      ]
    },
    {
      "cell_type": "markdown",
      "source": [
        "**Q.27 Write a code to create a list of 5 random numbers between 1 and 100, sort it in ascending order, and print the\n",
        "result.(replaced)**\n",
        "\n"
      ],
      "metadata": {
        "id": "n6VxYhwQ_BHb"
      }
    },
    {
      "cell_type": "code",
      "source": [
        "#Q.27 Write a code to create a list of 5 random numbers between 1 and 100, sort it in ascending order, and print the result.(replaced)\n",
        "import random\n",
        "my_list = [random.randint(1, 100) for _ in range(5)]\n",
        "my_list.sort()\n",
        "print(my_list)"
      ],
      "metadata": {
        "id": "zEJCAA0d819F",
        "colab": {
          "base_uri": "https://localhost:8080/"
        },
        "outputId": "6cd9b776-04ad-47a0-bf62-d9f8f8d6d736"
      },
      "execution_count": null,
      "outputs": [
        {
          "output_type": "stream",
          "name": "stdout",
          "text": [
            "[49, 59, 69, 76, 90]\n"
          ]
        }
      ]
    },
    {
      "cell_type": "markdown",
      "source": [
        "**Q.28 Write a code to create a list with strings and print the element at the third index.**\n",
        "\n"
      ],
      "metadata": {
        "id": "6cbSHbjm_CS0"
      }
    },
    {
      "cell_type": "code",
      "source": [
        "#Q.28 Write a code to create a list with strings and print the element at the third index.\n",
        "my_list = [\"apple\", \"banana\", \"cherry\", \"date\"]\n",
        "print(my_list[3])  # Output: 'date'"
      ],
      "metadata": {
        "id": "X-z2t14882Fq",
        "colab": {
          "base_uri": "https://localhost:8080/"
        },
        "outputId": "1c3c7a4e-f475-44b2-f70d-0d972e317ba1"
      },
      "execution_count": null,
      "outputs": [
        {
          "output_type": "stream",
          "name": "stdout",
          "text": [
            "date\n"
          ]
        }
      ]
    },
    {
      "cell_type": "markdown",
      "source": [
        "**Q.29 Write a code to combine two dictionaries into one and print the result.**\n",
        "\n"
      ],
      "metadata": {
        "id": "9Xftqq81_Dhq"
      }
    },
    {
      "cell_type": "code",
      "source": [
        "#Q.29 Write a code to combine two dictionaries into one and print the result.\n",
        "\n",
        "dict1 = {'a': 1, 'b': 2}\n",
        "dict2 = {'c': 3, 'd': 4}\n",
        "combined_dict = {**dict1, **dict2}\n",
        "print(combined_dict)"
      ],
      "metadata": {
        "id": "AGZJ5vmQ82N9",
        "colab": {
          "base_uri": "https://localhost:8080/"
        },
        "outputId": "8cd80f01-96eb-4d4e-b15b-94b596a4ce22"
      },
      "execution_count": null,
      "outputs": [
        {
          "output_type": "stream",
          "name": "stdout",
          "text": [
            "{'a': 1, 'b': 2, 'c': 3, 'd': 4}\n"
          ]
        }
      ]
    },
    {
      "cell_type": "markdown",
      "source": [
        "**Q.30 Write a code to convert a list of strings into a set**"
      ],
      "metadata": {
        "id": "CrKMsV76_EhE"
      }
    },
    {
      "cell_type": "code",
      "source": [
        "#Q.30 Write a code to convert a list of strings into a set\n",
        "my_list = [\"apple\", \"banana\", \"cherry\", \"apple\"]\n",
        "my_set = set(my_list)\n",
        "print(my_set)"
      ],
      "metadata": {
        "id": "OodrDmok82YP",
        "colab": {
          "base_uri": "https://localhost:8080/"
        },
        "outputId": "2e2f79aa-1482-4ff4-afdb-a794f3601b05"
      },
      "execution_count": null,
      "outputs": [
        {
          "output_type": "stream",
          "name": "stdout",
          "text": [
            "{'banana', 'apple', 'cherry'}\n"
          ]
        }
      ]
    }
  ]
}